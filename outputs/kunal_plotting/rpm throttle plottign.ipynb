{
 "cells": [
  {
   "cell_type": "code",
   "execution_count": 1,
   "id": "dad8cd66-fbf3-4db8-bfe0-b97a9543a32f",
   "metadata": {},
   "outputs": [],
   "source": [
    "import pandas as pd\n",
    "import matplotlib.pyplot as plt\n",
    "import numpy as np\n",
    "import json"
   ]
  },
  {
   "cell_type": "code",
   "execution_count": 2,
   "id": "10f6c1b7-cb6e-47dd-b3d9-2ecb27225267",
   "metadata": {},
   "outputs": [],
   "source": [
    "import matplotlib as mpl\n",
    "mpl.use(\"pgf\")\n",
    "plt.rcParams.update({\n",
    "    \"pgf.texsystem\": \"pdflatex\",\n",
    "    \"font.family\": \"serif\",\n",
    "    \"font.serif\": \"Times New Roman\"\n",
    "})\n",
    "plt.rcParams['text.usetex'] = True"
   ]
  },
  {
   "cell_type": "code",
   "execution_count": 3,
   "id": "e2292c01-4756-42a4-9d98-ce819d0caafb",
   "metadata": {},
   "outputs": [],
   "source": [
    "traces_to_plot = {\n",
    "    \"RPM\": \"../downsampled_data_10000_rows_first_arrivals.csv___lshare_fair___50___2000___avg.jsonl\",\n",
    "    \"VTC\": \"../downsampled_data_10000_rows_first_arrivals.csv___vtc_fair___2000___avg.jsonl\",\n",
    "    \"FairServe\": \"../downsampled_data_10000_rows_first_arrivals.csv___fs_fair_interaction_limit_expect___50___2000___avg.jsonl\",\n",
    "    \"FairServe (WSC)\": \"../downsampled_data_10000_rows_first_arrivals.csv___fs_fair_wsc_expect___50___2000___avg.jsonl\"\n",
    "}"
   ]
  },
  {
   "cell_type": "code",
   "execution_count": 8,
   "id": "781e7f2f-16f5-4aff-aeeb-e096bb0581e7",
   "metadata": {},
   "outputs": [],
   "source": [
    "cutoff_time = 100"
   ]
  },
  {
   "cell_type": "code",
   "execution_count": 21,
   "id": "5adac0f7-83af-4a6f-860c-e0ba5932ab70",
   "metadata": {},
   "outputs": [
    {
     "name": "stdout",
     "output_type": "stream",
     "text": [
      "Single request interactions: 3179\n",
      "Total interactions sent in RPM: 1447 from 816 users\n",
      "Number of finished interactions: 300 with total requests 1080\n",
      "Number of user with finished interactions: 227\n",
      "Number of single requests served: 612\n",
      "Single request interactions: 3179\n",
      "Total interactions sent in VTC: 1447 from 816 users\n",
      "Number of finished interactions: 279 with total requests 970\n",
      "Number of user with finished interactions: 201\n",
      "Number of single requests served: 800\n",
      "Single request interactions: 3179\n",
      "Total interactions sent in FairServe: 1447 from 816 users\n",
      "Number of finished interactions: 282 with total requests 991\n",
      "Number of user with finished interactions: 203\n",
      "Number of single requests served: 805\n",
      "Single request interactions: 3179\n",
      "Total interactions sent in FairServe (WSC): 1447 from 816 users\n",
      "Number of finished interactions: 280 with total requests 985\n",
      "Number of user with finished interactions: 202\n",
      "Number of single requests served: 808\n"
     ]
    }
   ],
   "source": [
    "for trace, trace_file in traces_to_plot.items():\n",
    "    with open(trace_file) as f:\n",
    "        j = json.load(f)\n",
    "        df = pd.DataFrame(j[\"result\"][\"responses\"])\n",
    "\n",
    "    single_requests = len(df.loc[df[\"llmcalls\"] == 1])\n",
    "    single_request_df = df.loc[df[\"llmcalls\"] == 1]\n",
    "    print(f\"Single request interactions: {single_requests}\")\n",
    "    \n",
    "    total_interactions = len(df.loc[(df[\"llmcalls\"] > 1) & (df[\"llmcalls\"] == df[\"llmcalls_made\"])])\n",
    "    print(f\"Total interactions sent in {trace}: {total_interactions} from {df.loc[(df[\"llmcalls\"] > 1) & (df[\"llmcalls\"] == df[\"llmcalls_made\"])][\"adapter_dir\"].nunique()} users\")\n",
    "    # remove throttled requests\n",
    "    df = df.loc[df[\"request_latency\"] >= 0]\n",
    "    # remove requests finished after cut off\n",
    "    df[\"FinishTime\"] = df[\"req_time\"] + df[\"request_latency\"]\n",
    "    df = df.loc[df[\"FinishTime\"] <= cutoff_time]\n",
    "    # remove single call interactions\n",
    "    df = df.loc[df[\"llmcalls\"] > 1]\n",
    "    # get last request of finished interactions\n",
    "    df = df.loc[df[\"llmcalls\"] == df[\"llmcalls_made\"]]\n",
    "    # count finished interactions\n",
    "    finished_interactions = len(df)\n",
    "    print(f\"Number of finished interactions: {finished_interactions} with total requests {df[\"llmcalls\"].sum()}\")\n",
    "    # number of users with finished interactions\n",
    "    users_finished_interaction = len(df[\"adapter_dir\"].value_counts())\n",
    "    print(f\"Number of user with finished interactions: {users_finished_interaction}\")\n",
    "\n",
    "    users_finished_interaction = len(df[\"adapter_dir\"].value_counts().)\n",
    "    print(f\"Number of user with finished interactions: {users_finished_interaction}\")\n",
    "\n",
    "\n",
    "    # number of single requests served\n",
    "    single_request_df_served = single_request_df.loc[single_request_df[\"request_latency\"] >= 0]\n",
    "    single_request_df_served = single_request_df_served.loc[single_request_df_served[\"req_time\"] + single_request_df_served[\"request_latency\"] <= cutoff_time]\n",
    "    print(f\"Number of single requests served: {len(single_request_df_served)}\")"
   ]
  },
  {
   "cell_type": "code",
   "execution_count": 18,
   "id": "3164e881-c77e-48f4-a406-e14b6cfef01f",
   "metadata": {},
   "outputs": [],
   "source": [
    "with open(\"../downsampled_data_10000_rows_first_arrivals.csv___vtc_fair___2000___avg.jsonl\") as f:\n",
    "        j = json.load(f)\n",
    "        df = pd.DataFrame(j[\"result\"][\"responses\"])\n",
    "for interaction in df[\"interaction_id\"].unique():\n",
    "    df_here = df.loc[df[\"interaction_id\"] == interaction]\n",
    "    plt.plot(df_here[\"req_time\"], df_here[\"llmcalls_made\"])\n",
    "plt.savefig(\"tmp.pdf\")"
   ]
  },
  {
   "cell_type": "code",
   "execution_count": 22,
   "id": "729db248-4056-4dbc-bb56-726cd423001b",
   "metadata": {},
   "outputs": [
    {
     "name": "stdout",
     "output_type": "stream",
     "text": [
      "9241\n"
     ]
    }
   ],
   "source": [
    "with open(\"../downsampled_data_10000_rows_first_arrivals.csv___vtc_fair___2000___avg.jsonl\") as f:\n",
    "        j = json.load(f)\n",
    "        df = pd.DataFrame(j[\"result\"][\"responses\"])\n",
    "print(len(df))"
   ]
  },
  {
   "cell_type": "code",
   "execution_count": 23,
   "id": "3e09c989-e15b-4034-8c10-c05163d6e1a6",
   "metadata": {},
   "outputs": [
    {
     "data": {
      "text/plain": [
       "6062"
      ]
     },
     "execution_count": 23,
     "metadata": {},
     "output_type": "execute_result"
    }
   ],
   "source": [
    "9241 - 3179"
   ]
  }
 ],
 "metadata": {
  "kernelspec": {
   "display_name": "Python 3 (ipykernel)",
   "language": "python",
   "name": "python3"
  },
  "language_info": {
   "codemirror_mode": {
    "name": "ipython",
    "version": 3
   },
   "file_extension": ".py",
   "mimetype": "text/x-python",
   "name": "python",
   "nbconvert_exporter": "python",
   "pygments_lexer": "ipython3",
   "version": "3.12.4"
  }
 },
 "nbformat": 4,
 "nbformat_minor": 5
}
